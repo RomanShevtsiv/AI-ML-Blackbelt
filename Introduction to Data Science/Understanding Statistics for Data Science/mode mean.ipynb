{
 "cells": [
  {
   "cell_type": "code",
   "execution_count": 2,
   "metadata": {
    "collapsed": true,
    "pycharm": {
     "is_executing": false
    }
   },
   "outputs": [],
   "source": [
    "import pandas as pd"
   ]
  },
  {
   "cell_type": "code",
   "execution_count": 3,
   "outputs": [],
   "source": [
    "data=pd.read_csv(\"datasets/mode.csv\")"
   ],
   "metadata": {
    "collapsed": false,
    "pycharm": {
     "name": "#%%\n",
     "is_executing": false
    }
   }
  },
  {
   "cell_type": "code",
   "execution_count": 6,
   "outputs": [
    {
     "data": {
      "text/plain": "   Student  Overall Marks Gender    Subject\n0    Anish             97   Male    English\n1  Rishabh             83   Male    English\n2     Ajay             78   Male    Physics\n3  Abhinav             86   Male  Chemistry\n4   Anurag             91   Male    English",
      "text/html": "<div>\n<style scoped>\n    .dataframe tbody tr th:only-of-type {\n        vertical-align: middle;\n    }\n\n    .dataframe tbody tr th {\n        vertical-align: top;\n    }\n\n    .dataframe thead th {\n        text-align: right;\n    }\n</style>\n<table border=\"1\" class=\"dataframe\">\n  <thead>\n    <tr style=\"text-align: right;\">\n      <th></th>\n      <th>Student</th>\n      <th>Overall Marks</th>\n      <th>Gender</th>\n      <th>Subject</th>\n    </tr>\n  </thead>\n  <tbody>\n    <tr>\n      <td>0</td>\n      <td>Anish</td>\n      <td>97</td>\n      <td>Male</td>\n      <td>English</td>\n    </tr>\n    <tr>\n      <td>1</td>\n      <td>Rishabh</td>\n      <td>83</td>\n      <td>Male</td>\n      <td>English</td>\n    </tr>\n    <tr>\n      <td>2</td>\n      <td>Ajay</td>\n      <td>78</td>\n      <td>Male</td>\n      <td>Physics</td>\n    </tr>\n    <tr>\n      <td>3</td>\n      <td>Abhinav</td>\n      <td>86</td>\n      <td>Male</td>\n      <td>Chemistry</td>\n    </tr>\n    <tr>\n      <td>4</td>\n      <td>Anurag</td>\n      <td>91</td>\n      <td>Male</td>\n      <td>English</td>\n    </tr>\n  </tbody>\n</table>\n</div>"
     },
     "metadata": {},
     "output_type": "execute_result",
     "execution_count": 6
    }
   ],
   "source": [
    "data.head()"
   ],
   "metadata": {
    "collapsed": false,
    "pycharm": {
     "name": "#%%\n",
     "is_executing": false
    }
   }
  },
  {
   "cell_type": "code",
   "execution_count": 5,
   "outputs": [
    {
     "name": "stdout",
     "text": [
      "0    Chemistry\ndtype: object\n"
     ],
     "output_type": "stream"
    }
   ],
   "source": [
    "print(data['Subject'].mode())"
   ],
   "metadata": {
    "collapsed": false,
    "pycharm": {
     "name": "#%%\n",
     "is_executing": false
    }
   }
  },
  {
   "cell_type": "code",
   "execution_count": 9,
   "outputs": [],
   "source": [
    "data=pd.read_csv(\"datasets/mean.csv\")"
   ],
   "metadata": {
    "collapsed": false,
    "pycharm": {
     "name": "#%%\n",
     "is_executing": false
    }
   }
  },
  {
   "cell_type": "code",
   "execution_count": 10,
   "outputs": [
    {
     "name": "stdout",
     "text": [
      "68.21\n"
     ],
     "output_type": "stream"
    }
   ],
   "source": [
    "print(data['Overall Marks'].mean())"
   ],
   "metadata": {
    "collapsed": false,
    "pycharm": {
     "name": "#%%\n",
     "is_executing": false
    }
   }
  },
  {
   "cell_type": "code",
   "execution_count": 12,
   "outputs": [],
   "source": [
    "data_new=pd.read_csv(\"datasets/mean_robust.csv\")"
   ],
   "metadata": {
    "collapsed": false,
    "pycharm": {
     "name": "#%%\n",
     "is_executing": false
    }
   }
  },
  {
   "cell_type": "code",
   "execution_count": 14,
   "outputs": [
    {
     "data": {
      "text/plain": "    Student  Overall Marks  Gender    Subject\n96    vivek             55    Male    Physics\n97    Tisha              7  Female    English\n98   Raghav             73    Male    English\n99   Ishita             82  Female  Chemistry\n100     NaN          10000     NaN        NaN",
      "text/html": "<div>\n<style scoped>\n    .dataframe tbody tr th:only-of-type {\n        vertical-align: middle;\n    }\n\n    .dataframe tbody tr th {\n        vertical-align: top;\n    }\n\n    .dataframe thead th {\n        text-align: right;\n    }\n</style>\n<table border=\"1\" class=\"dataframe\">\n  <thead>\n    <tr style=\"text-align: right;\">\n      <th></th>\n      <th>Student</th>\n      <th>Overall Marks</th>\n      <th>Gender</th>\n      <th>Subject</th>\n    </tr>\n  </thead>\n  <tbody>\n    <tr>\n      <td>96</td>\n      <td>vivek</td>\n      <td>55</td>\n      <td>Male</td>\n      <td>Physics</td>\n    </tr>\n    <tr>\n      <td>97</td>\n      <td>Tisha</td>\n      <td>7</td>\n      <td>Female</td>\n      <td>English</td>\n    </tr>\n    <tr>\n      <td>98</td>\n      <td>Raghav</td>\n      <td>73</td>\n      <td>Male</td>\n      <td>English</td>\n    </tr>\n    <tr>\n      <td>99</td>\n      <td>Ishita</td>\n      <td>82</td>\n      <td>Female</td>\n      <td>Chemistry</td>\n    </tr>\n    <tr>\n      <td>100</td>\n      <td>NaN</td>\n      <td>10000</td>\n      <td>NaN</td>\n      <td>NaN</td>\n    </tr>\n  </tbody>\n</table>\n</div>"
     },
     "metadata": {},
     "output_type": "execute_result",
     "execution_count": 14
    }
   ],
   "source": [
    "data_new.tail()"
   ],
   "metadata": {
    "collapsed": false,
    "pycharm": {
     "name": "#%%\n",
     "is_executing": false
    }
   }
  },
  {
   "cell_type": "code",
   "execution_count": 13,
   "outputs": [
    {
     "name": "stdout",
     "text": [
      "166.54455445544554\n"
     ],
     "output_type": "stream"
    }
   ],
   "source": [
    "print(data_new['Overall Marks'].mean())"
   ],
   "metadata": {
    "collapsed": false,
    "pycharm": {
     "name": "#%%\n",
     "is_executing": false
    }
   }
  }
 ],
 "metadata": {
  "kernelspec": {
   "display_name": "Python 3",
   "language": "python",
   "name": "python3"
  },
  "language_info": {
   "codemirror_mode": {
    "name": "ipython",
    "version": 2
   },
   "file_extension": ".py",
   "mimetype": "text/x-python",
   "name": "python",
   "nbconvert_exporter": "python",
   "pygments_lexer": "ipython2",
   "version": "2.7.6"
  },
  "pycharm": {
   "stem_cell": {
    "cell_type": "raw",
    "source": [],
    "metadata": {
     "collapsed": false
    }
   }
  }
 },
 "nbformat": 4,
 "nbformat_minor": 0
}