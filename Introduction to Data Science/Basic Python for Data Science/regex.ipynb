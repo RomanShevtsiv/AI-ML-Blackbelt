{
 "cells": [
  {
   "cell_type": "code",
   "execution_count": 2,
   "metadata": {
    "collapsed": true,
    "pycharm": {
     "is_executing": false
    }
   },
   "outputs": [],
   "source": [
    "import re"
   ]
  },
  {
   "cell_type": "code",
   "execution_count": 5,
   "outputs": [
    {
     "name": "stdout",
     "text": [
      "<re.Match object; span=(0, 9), match='Analytics'>\nAnalytics\n"
     ],
     "output_type": "stream"
    }
   ],
   "source": [
    "result = re.match('Analytics', r'Analytics Vidhya is the largest data science community of India')\n",
    "print(result)\n",
    "print(result.group())"
   ],
   "metadata": {
    "collapsed": false,
    "pycharm": {
     "name": "#%%\n",
     "is_executing": false
    }
   }
  },
  {
   "cell_type": "code",
   "execution_count": 4,
   "outputs": [
    {
     "name": "stdout",
     "text": [
      "None\n"
     ],
     "output_type": "stream"
    }
   ],
   "source": [
    "result_2 = re.match('largest', r'Analytics Vidhya is the largest data science community of India')\n",
    "print(result_2)"
   ],
   "metadata": {
    "collapsed": false,
    "pycharm": {
     "name": "#%%\n",
     "is_executing": false
    }
   }
  },
  {
   "cell_type": "code",
   "execution_count": null,
   "outputs": [],
   "source": [
    "result = re.search('founded', r'Andrew NG founded Coursera. He also founded deeplearning.ai')\n",
    "print(result.group())\n"
   ],
   "metadata": {
    "collapsed": false,
    "pycharm": {
     "name": "#%%\n"
    }
   }
  },
  {
   "cell_type": "code",
   "execution_count": 9,
   "outputs": [
    {
     "name": "stdout",
     "text": [
      "['founded', 'founded']\n"
     ],
     "output_type": "stream"
    }
   ],
   "source": [
    "result = re.findall('founded', r'Andrew NG founded Coursera. He also founded deeplearning.ai')\n",
    "print(result)"
   ],
   "metadata": {
    "collapsed": false,
    "pycharm": {
     "name": "#%%\n",
     "is_executing": false
    }
   }
  },
  {
   "cell_type": "code",
   "execution_count": 11,
   "outputs": [
    {
     "name": "stdout",
     "text": [
      "['ics', 'ics']\n"
     ],
     "output_type": "stream"
    }
   ],
   "source": [
    "result = re.findall(r'ics\\b', r'Analytics Vidhya is the largest Analytics community of India')\n",
    "print(result)\n"
   ],
   "metadata": {
    "collapsed": false,
    "pycharm": {
     "name": "#%%\n",
     "is_executing": false
    }
   }
  },
  {
   "cell_type": "code",
   "execution_count": 12,
   "outputs": [
    {
     "name": "stdout",
     "text": [
      "['2', '1', '9']\n"
     ],
     "output_type": "stream"
    }
   ],
   "source": [
    "result = re.findall('\\d', r\"2 million monthly visits in Jan'19.\")\n",
    "print(result)\n"
   ],
   "metadata": {
    "collapsed": false,
    "pycharm": {
     "name": "#%%\n",
     "is_executing": false
    }
   }
  },
  {
   "cell_type": "code",
   "execution_count": 13,
   "outputs": [
    {
     "name": "stdout",
     "text": [
      "['2', '19']\n"
     ],
     "output_type": "stream"
    }
   ],
   "source": [
    "result = re.findall('\\d+', r\"2 million monthly visits in Jan'19.\")\n",
    "print(result)\n"
   ],
   "metadata": {
    "collapsed": false,
    "pycharm": {
     "name": "#%%\n",
     "is_executing": false
    }
   }
  },
  {
   "cell_type": "code",
   "execution_count": 15,
   "outputs": [
    {
     "name": "stdout",
     "text": [
      "[' ', 'm', 'i', 'l', 'l', 'i', 'o', 'n', ' ', 'm', 'o', 'n', 't', 'h', 'l', 'y', ' ', 'v', 'i', 's', 'i', 't', 's', ' ', 'i', 'n', ' ', 'J', 'a', 'n', \"'\", '.']\n[\" million monthly visits in Jan'\", '.']\n"
     ],
     "output_type": "stream"
    }
   ],
   "source": [
    "result = re.findall('\\D', r\"2 million monthly visits in Jan'19.\")\n",
    "print(result)\n",
    " "
   ],
   "metadata": {
    "collapsed": false,
    "pycharm": {
     "name": "#%%\n",
     "is_executing": false
    }
   }
  },
  {
   "cell_type": "code",
   "execution_count": null,
   "outputs": [],
   "source": [
    "result = re.findall('\\D+', r\"2 million monthly visits in Jan'19.\")\n",
    "print(result)\n"
   ],
   "metadata": {
    "collapsed": false,
    "pycharm": {
     "name": "#%%\n"
    }
   }
  },
  {
   "cell_type": "code",
   "execution_count": 16,
   "outputs": [
    {
     "name": "stdout",
     "text": [
      "['2', 'm', 'i', 'l', 'l', 'i', 'o', 'n', 'm', 'o', 'n', 't', 'h', 'l', 'y', '_', 'v', 'i', 's', 'i', 't', 's']\n"
     ],
     "output_type": "stream"
    }
   ],
   "source": [
    "result = re.findall('\\w', r\"2 million monthly_visits!\")\n",
    "print(result)\n"
   ],
   "metadata": {
    "collapsed": false,
    "pycharm": {
     "name": "#%%\n",
     "is_executing": false
    }
   }
  },
  {
   "cell_type": "code",
   "execution_count": 18,
   "outputs": [
    {
     "name": "stdout",
     "text": [
      "[' ', ' ', '!']\n"
     ],
     "output_type": "stream"
    }
   ],
   "source": [
    "result = re.findall('\\W', r\"2 million monthly_visits!\")\n",
    "print(result)\n"
   ],
   "metadata": {
    "collapsed": false,
    "pycharm": {
     "name": "#%%\n",
     "is_executing": false
    }
   }
  }
 ],
 "metadata": {
  "language_info": {
   "codemirror_mode": {
    "name": "ipython",
    "version": 2
   },
   "file_extension": ".py",
   "mimetype": "text/x-python",
   "name": "python",
   "nbconvert_exporter": "python",
   "pygments_lexer": "ipython2",
   "version": "2.7.6"
  },
  "kernelspec": {
   "name": "python3",
   "language": "python",
   "display_name": "Python 3"
  },
  "pycharm": {
   "stem_cell": {
    "cell_type": "raw",
    "source": [],
    "metadata": {
     "collapsed": false
    }
   }
  }
 },
 "nbformat": 4,
 "nbformat_minor": 0
}