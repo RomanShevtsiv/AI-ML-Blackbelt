{
 "cells": [
  {
   "cell_type": "code",
   "execution_count": 1,
   "metadata": {
    "collapsed": true,
    "pycharm": {
     "is_executing": false
    }
   },
   "outputs": [
    {
     "name": "stdout",
     "text": [
      "Even\n"
     ],
     "output_type": "stream"
    }
   ],
   "source": [
    "# Problem 1\n",
    "x = 4\n",
    "\n",
    "if x % 2 == 0 :\n",
    "    print(\"Even\")\n",
    "else :\n",
    "    print(\"Odd\")"
   ]
  },
  {
   "cell_type": "code",
   "execution_count": 2,
   "outputs": [
    {
     "name": "stdout",
     "text": [
      "Grade B\n"
     ],
     "output_type": "stream"
    }
   ],
   "source": [
    "# Problem 2\n",
    "y = 70\n",
    "\n",
    "if y > 90 :\n",
    "    print(\"Grade A\")\n",
    "elif 60 < y <= 90 :\n",
    "    print(\"Grade B\")\n",
    "else :\n",
    "    print(\"Grade F\")"
   ],
   "metadata": {
    "collapsed": false,
    "pycharm": {
     "name": "#%%\n",
     "is_executing": false
    }
   }
  }
 ],
 "metadata": {
  "language_info": {
   "codemirror_mode": {
    "name": "ipython",
    "version": 2
   },
   "file_extension": ".py",
   "mimetype": "text/x-python",
   "name": "python",
   "nbconvert_exporter": "python",
   "pygments_lexer": "ipython2",
   "version": "2.7.6"
  },
  "kernelspec": {
   "name": "python3",
   "language": "python",
   "display_name": "Python 3"
  },
  "pycharm": {
   "stem_cell": {
    "cell_type": "raw",
    "source": [],
    "metadata": {
     "collapsed": false
    }
   }
  }
 },
 "nbformat": 4,
 "nbformat_minor": 0
}