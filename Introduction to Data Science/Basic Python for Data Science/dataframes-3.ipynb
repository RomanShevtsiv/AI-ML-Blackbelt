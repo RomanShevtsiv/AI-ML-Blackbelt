{
 "cells": [
  {
   "cell_type": "code",
   "execution_count": 1,
   "metadata": {
    "collapsed": true,
    "pycharm": {
     "is_executing": false
    }
   },
   "outputs": [],
   "source": [
    "import pandas as pd"
   ]
  },
  {
   "cell_type": "code",
   "execution_count": 3,
   "outputs": [],
   "source": [
    "# Task 0 : Read the file in a variable called index\n",
    "index = pd.read_csv(\"datasets/index.csv\")"
   ],
   "metadata": {
    "collapsed": false,
    "pycharm": {
     "name": "#%%\n",
     "is_executing": false
    }
   }
  },
  {
   "cell_type": "code",
   "execution_count": 24,
   "outputs": [
    {
     "data": {
      "text/plain": "      C\n0     8\n1     0\n2     0\n3     0\n4     0\n..   ..\n252   0\n253   6\n254   0\n255  45\n256   6\n\n[257 rows x 1 columns]",
      "text/html": "<div>\n<style scoped>\n    .dataframe tbody tr th:only-of-type {\n        vertical-align: middle;\n    }\n\n    .dataframe tbody tr th {\n        vertical-align: top;\n    }\n\n    .dataframe thead th {\n        text-align: right;\n    }\n</style>\n<table border=\"1\" class=\"dataframe\">\n  <thead>\n    <tr style=\"text-align: right;\">\n      <th></th>\n      <th>C</th>\n    </tr>\n  </thead>\n  <tbody>\n    <tr>\n      <td>0</td>\n      <td>8</td>\n    </tr>\n    <tr>\n      <td>1</td>\n      <td>0</td>\n    </tr>\n    <tr>\n      <td>2</td>\n      <td>0</td>\n    </tr>\n    <tr>\n      <td>3</td>\n      <td>0</td>\n    </tr>\n    <tr>\n      <td>4</td>\n      <td>0</td>\n    </tr>\n    <tr>\n      <td>...</td>\n      <td>...</td>\n    </tr>\n    <tr>\n      <td>252</td>\n      <td>0</td>\n    </tr>\n    <tr>\n      <td>253</td>\n      <td>6</td>\n    </tr>\n    <tr>\n      <td>254</td>\n      <td>0</td>\n    </tr>\n    <tr>\n      <td>255</td>\n      <td>45</td>\n    </tr>\n    <tr>\n      <td>256</td>\n      <td>6</td>\n    </tr>\n  </tbody>\n</table>\n<p>257 rows × 1 columns</p>\n</div>"
     },
     "metadata": {},
     "output_type": "execute_result",
     "execution_count": 24
    }
   ],
   "source": [
    "# Task 1 : Access the third column of the index dataframe\n",
    "index.iloc[:,[2]]"
   ],
   "metadata": {
    "collapsed": false,
    "pycharm": {
     "name": "#%%\n",
     "is_executing": false
    }
   }
  },
  {
   "cell_type": "code",
   "execution_count": 20,
   "outputs": [
    {
     "data": {
      "text/plain": "     K  L\n0    0  3\n1    0  3\n2    0  3\n3    0  3\n4    0  3\n..  .. ..\n252  0  3\n253  0  3\n254  0  3\n255  0  3\n256  0  3\n\n[257 rows x 2 columns]",
      "text/html": "<div>\n<style scoped>\n    .dataframe tbody tr th:only-of-type {\n        vertical-align: middle;\n    }\n\n    .dataframe tbody tr th {\n        vertical-align: top;\n    }\n\n    .dataframe thead th {\n        text-align: right;\n    }\n</style>\n<table border=\"1\" class=\"dataframe\">\n  <thead>\n    <tr style=\"text-align: right;\">\n      <th></th>\n      <th>K</th>\n      <th>L</th>\n    </tr>\n  </thead>\n  <tbody>\n    <tr>\n      <td>0</td>\n      <td>0</td>\n      <td>3</td>\n    </tr>\n    <tr>\n      <td>1</td>\n      <td>0</td>\n      <td>3</td>\n    </tr>\n    <tr>\n      <td>2</td>\n      <td>0</td>\n      <td>3</td>\n    </tr>\n    <tr>\n      <td>3</td>\n      <td>0</td>\n      <td>3</td>\n    </tr>\n    <tr>\n      <td>4</td>\n      <td>0</td>\n      <td>3</td>\n    </tr>\n    <tr>\n      <td>...</td>\n      <td>...</td>\n      <td>...</td>\n    </tr>\n    <tr>\n      <td>252</td>\n      <td>0</td>\n      <td>3</td>\n    </tr>\n    <tr>\n      <td>253</td>\n      <td>0</td>\n      <td>3</td>\n    </tr>\n    <tr>\n      <td>254</td>\n      <td>0</td>\n      <td>3</td>\n    </tr>\n    <tr>\n      <td>255</td>\n      <td>0</td>\n      <td>3</td>\n    </tr>\n    <tr>\n      <td>256</td>\n      <td>0</td>\n      <td>3</td>\n    </tr>\n  </tbody>\n</table>\n<p>257 rows × 2 columns</p>\n</div>"
     },
     "metadata": {},
     "output_type": "execute_result",
     "execution_count": 20
    }
   ],
   "source": [
    "# Task 2 : Access the last two columns of the index dataframe using the iloc function\n",
    "index.iloc[:,-2:]"
   ],
   "metadata": {
    "collapsed": false,
    "pycharm": {
     "name": "#%%\n",
     "is_executing": false
    }
   }
  },
  {
   "cell_type": "code",
   "execution_count": 22,
   "outputs": [
    {
     "data": {
      "text/plain": "     A  B\n247  C  R\n248  C  A\n249  C  A\n250  C  R\n251  C  A\n252  C  A\n253  C  R\n254  C  A\n255  C  K\n256  C  R",
      "text/html": "<div>\n<style scoped>\n    .dataframe tbody tr th:only-of-type {\n        vertical-align: middle;\n    }\n\n    .dataframe tbody tr th {\n        vertical-align: top;\n    }\n\n    .dataframe thead th {\n        text-align: right;\n    }\n</style>\n<table border=\"1\" class=\"dataframe\">\n  <thead>\n    <tr style=\"text-align: right;\">\n      <th></th>\n      <th>A</th>\n      <th>B</th>\n    </tr>\n  </thead>\n  <tbody>\n    <tr>\n      <td>247</td>\n      <td>C</td>\n      <td>R</td>\n    </tr>\n    <tr>\n      <td>248</td>\n      <td>C</td>\n      <td>A</td>\n    </tr>\n    <tr>\n      <td>249</td>\n      <td>C</td>\n      <td>A</td>\n    </tr>\n    <tr>\n      <td>250</td>\n      <td>C</td>\n      <td>R</td>\n    </tr>\n    <tr>\n      <td>251</td>\n      <td>C</td>\n      <td>A</td>\n    </tr>\n    <tr>\n      <td>252</td>\n      <td>C</td>\n      <td>A</td>\n    </tr>\n    <tr>\n      <td>253</td>\n      <td>C</td>\n      <td>R</td>\n    </tr>\n    <tr>\n      <td>254</td>\n      <td>C</td>\n      <td>A</td>\n    </tr>\n    <tr>\n      <td>255</td>\n      <td>C</td>\n      <td>K</td>\n    </tr>\n    <tr>\n      <td>256</td>\n      <td>C</td>\n      <td>R</td>\n    </tr>\n  </tbody>\n</table>\n</div>"
     },
     "metadata": {},
     "output_type": "execute_result",
     "execution_count": 22
    }
   ],
   "source": [
    "# Task 3 : Access the last 10 rows and the first two columns of the index dataframe\n",
    "index.iloc[-10:,:2]"
   ],
   "metadata": {
    "collapsed": false,
    "pycharm": {
     "name": "#%%\n",
     "is_executing": false
    }
   }
  }
 ],
 "metadata": {
  "language_info": {
   "codemirror_mode": {
    "name": "ipython",
    "version": 2
   },
   "file_extension": ".py",
   "mimetype": "text/x-python",
   "name": "python",
   "nbconvert_exporter": "python",
   "pygments_lexer": "ipython2",
   "version": "2.7.6"
  },
  "kernelspec": {
   "name": "python3",
   "language": "python",
   "display_name": "Python 3"
  },
  "pycharm": {
   "stem_cell": {
    "cell_type": "raw",
    "source": [],
    "metadata": {
     "collapsed": false
    }
   }
  }
 },
 "nbformat": 4,
 "nbformat_minor": 0
}